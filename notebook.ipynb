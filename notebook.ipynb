{
 "cells": [
  {
   "cell_type": "code",
   "execution_count": 6,
   "metadata": {},
   "outputs": [],
   "source": [
    "import autogluon as ag"
   ]
  },
  {
   "cell_type": "code",
   "execution_count": 8,
   "metadata": {},
   "outputs": [],
   "source": [
    "from autogluon import TabularPrediction as task"
   ]
  },
  {
   "cell_type": "code",
   "execution_count": 36,
   "metadata": {},
   "outputs": [
    {
     "name": "stderr",
     "output_type": "stream",
     "text": [
      "Loaded data from: data/housing_in_london_yearly_variables.csv | Columns = 12 / 12 | Rows = 1071 -> 1071\n"
     ]
    }
   ],
   "source": [
    "dataset = task.Dataset(file_path='data/housing_in_london_yearly_variables.csv')"
   ]
  },
  {
   "cell_type": "code",
   "execution_count": 37,
   "metadata": {},
   "outputs": [],
   "source": [
    "dataset = dataset.drop(columns=['code', 'date']) # removing unused columns"
   ]
  },
  {
   "cell_type": "code",
   "execution_count": 38,
   "metadata": {},
   "outputs": [
    {
     "data": {
      "text/html": [
       "<div>\n",
       "<style scoped>\n",
       "    .dataframe tbody tr th:only-of-type {\n",
       "        vertical-align: middle;\n",
       "    }\n",
       "\n",
       "    .dataframe tbody tr th {\n",
       "        vertical-align: top;\n",
       "    }\n",
       "\n",
       "    .dataframe thead th {\n",
       "        text-align: right;\n",
       "    }\n",
       "</style>\n",
       "<table border=\"1\" class=\"dataframe\">\n",
       "  <thead>\n",
       "    <tr style=\"text-align: right;\">\n",
       "      <th></th>\n",
       "      <th>area</th>\n",
       "      <th>median_salary</th>\n",
       "      <th>life_satisfaction</th>\n",
       "      <th>mean_salary</th>\n",
       "      <th>recycling_pct</th>\n",
       "      <th>population_size</th>\n",
       "      <th>number_of_jobs</th>\n",
       "      <th>area_size</th>\n",
       "      <th>no_of_houses</th>\n",
       "      <th>borough_flag</th>\n",
       "    </tr>\n",
       "  </thead>\n",
       "  <tbody>\n",
       "    <tr>\n",
       "      <th>0</th>\n",
       "      <td>city of london</td>\n",
       "      <td>33020.0</td>\n",
       "      <td>NaN</td>\n",
       "      <td>48922</td>\n",
       "      <td>0</td>\n",
       "      <td>6581.0</td>\n",
       "      <td>NaN</td>\n",
       "      <td>NaN</td>\n",
       "      <td>NaN</td>\n",
       "      <td>1</td>\n",
       "    </tr>\n",
       "    <tr>\n",
       "      <th>1</th>\n",
       "      <td>barking and dagenham</td>\n",
       "      <td>21480.0</td>\n",
       "      <td>NaN</td>\n",
       "      <td>23620</td>\n",
       "      <td>3</td>\n",
       "      <td>162444.0</td>\n",
       "      <td>NaN</td>\n",
       "      <td>NaN</td>\n",
       "      <td>NaN</td>\n",
       "      <td>1</td>\n",
       "    </tr>\n",
       "    <tr>\n",
       "      <th>2</th>\n",
       "      <td>barnet</td>\n",
       "      <td>19568.0</td>\n",
       "      <td>NaN</td>\n",
       "      <td>23128</td>\n",
       "      <td>8</td>\n",
       "      <td>313469.0</td>\n",
       "      <td>NaN</td>\n",
       "      <td>NaN</td>\n",
       "      <td>NaN</td>\n",
       "      <td>1</td>\n",
       "    </tr>\n",
       "    <tr>\n",
       "      <th>3</th>\n",
       "      <td>bexley</td>\n",
       "      <td>18621.0</td>\n",
       "      <td>NaN</td>\n",
       "      <td>21386</td>\n",
       "      <td>18</td>\n",
       "      <td>217458.0</td>\n",
       "      <td>NaN</td>\n",
       "      <td>NaN</td>\n",
       "      <td>NaN</td>\n",
       "      <td>1</td>\n",
       "    </tr>\n",
       "    <tr>\n",
       "      <th>4</th>\n",
       "      <td>brent</td>\n",
       "      <td>18532.0</td>\n",
       "      <td>NaN</td>\n",
       "      <td>20911</td>\n",
       "      <td>6</td>\n",
       "      <td>260317.0</td>\n",
       "      <td>NaN</td>\n",
       "      <td>NaN</td>\n",
       "      <td>NaN</td>\n",
       "      <td>1</td>\n",
       "    </tr>\n",
       "  </tbody>\n",
       "</table>\n",
       "</div>"
      ],
      "text/plain": [
       "                   area  median_salary  life_satisfaction mean_salary  \\\n",
       "0        city of london        33020.0                NaN       48922   \n",
       "1  barking and dagenham        21480.0                NaN       23620   \n",
       "2                barnet        19568.0                NaN       23128   \n",
       "3                bexley        18621.0                NaN       21386   \n",
       "4                 brent        18532.0                NaN       20911   \n",
       "\n",
       "  recycling_pct  population_size  number_of_jobs  area_size  no_of_houses  \\\n",
       "0             0           6581.0             NaN        NaN           NaN   \n",
       "1             3         162444.0             NaN        NaN           NaN   \n",
       "2             8         313469.0             NaN        NaN           NaN   \n",
       "3            18         217458.0             NaN        NaN           NaN   \n",
       "4             6         260317.0             NaN        NaN           NaN   \n",
       "\n",
       "   borough_flag  \n",
       "0             1  \n",
       "1             1  \n",
       "2             1  \n",
       "3             1  \n",
       "4             1  "
      ]
     },
     "execution_count": 38,
     "metadata": {},
     "output_type": "execute_result"
    }
   ],
   "source": [
    "dataset.head(5) # showing first 5 results"
   ]
  },
  {
   "cell_type": "code",
   "execution_count": 52,
   "metadata": {},
   "outputs": [],
   "source": [
    "label_column = 'median_salary'"
   ]
  },
  {
   "cell_type": "code",
   "execution_count": 58,
   "metadata": {},
   "outputs": [],
   "source": [
    "train_data=dataset.sample(frac=0.8, random_state=123)\n",
    "test_data=dataset.drop(train.index)\n",
    "test_data_label=test_data[label_column]\n",
    "test_data_no_label=test_data.drop(columns=[label_column]) # removing label column"
   ]
  },
  {
   "cell_type": "code",
   "execution_count": 49,
   "metadata": {},
   "outputs": [
    {
     "name": "stderr",
     "output_type": "stream",
     "text": [
      "Beginning AutoGluon training ...\n",
      "AutoGluon will save models to models/\n",
      "AutoGluon Version:  0.0.14\n",
      "Train Data Rows:    857\n",
      "Train Data Columns: 9\n",
      "Preprocessing data ...\n",
      "Warning: Ignoring 18 (out of 857) training examples for which the label value in column 'median_salary' is missing\n",
      "AutoGluon infers your prediction problem is: 'regression' (because dtype of label-column == float and many unique label-values observed).\n",
      "\tLabel info (max, min, mean, stddev): (61636.0, 15684.0, 28035.17998, 6338.75376)\n",
      "\tIf 'regression' is not the correct problem_type, please manually specify the problem_type argument in fit() (You may specify problem_type as one of: ['binary', 'multiclass', 'regression'])\n",
      "Using Feature Generators to preprocess the data ...\n",
      "Fitting AutoMLPipelineFeatureGenerator...\n",
      "\tAvailable Memory:                    7725.84 MB\n",
      "\tTrain Data (Original)  Memory Usage: 0.2 MB (0.0% of available memory)\n",
      "\tInferring data type of each feature based on column values. Set feature_metadata_in to manually specify special dtypes of the features.\n",
      "\tStage 1 Generators:\n",
      "\t\tFitting AsTypeFeatureGenerator...\n",
      "\tStage 2 Generators:\n",
      "\t\tFitting FillNaFeatureGenerator...\n",
      "\tStage 3 Generators:\n",
      "\t\tFitting IdentityFeatureGenerator...\n",
      "\t\tFitting CategoryFeatureGenerator...\n",
      "\t\t\tFitting CategoryMemoryMinimizeFeatureGenerator...\n",
      "\tStage 4 Generators:\n",
      "\t\tFitting DropUniqueFeatureGenerator...\n",
      "\tTypes of features in original data (raw dtype, special dtypes):\n",
      "\t\t('float', [])  : 5 | ['life_satisfaction', 'population_size', 'number_of_jobs', 'area_size', 'no_of_houses']\n",
      "\t\t('int', [])    : 1 | ['borough_flag']\n",
      "\t\t('object', []) : 3 | ['area', 'mean_salary', 'recycling_pct']\n",
      "\tTypes of features in processed data (raw dtype, special dtypes):\n",
      "\t\t('category', []) : 3 | ['area', 'mean_salary', 'recycling_pct']\n",
      "\t\t('float', [])    : 5 | ['life_satisfaction', 'population_size', 'number_of_jobs', 'area_size', 'no_of_houses']\n",
      "\t\t('int', [])      : 1 | ['borough_flag']\n",
      "\t0.1s = Fit runtime\n",
      "\t9 features in original data used to generate 9 features in processed data.\n",
      "\tTrain Data (Processed) Memory Usage: 0.06 MB (0.0% of available memory)\n",
      "Data preprocessing and feature engineering runtime = 0.17s ...\n",
      "AutoGluon will gauge predictive performance using evaluation metric: 'root_mean_squared_error'\n",
      "\tTo change this, specify the eval_metric argument of fit()\n",
      "AutoGluon will early stop models using evaluation metric: 'root_mean_squared_error'\n",
      "Fitting model: RandomForestRegressorMSE ...\n",
      "\t-1285.5632\t = Validation root_mean_squared_error score\n",
      "\t0.63s\t = Training runtime\n",
      "\t0.33s\t = Validation runtime\n",
      "Fitting model: ExtraTreesRegressorMSE ...\n",
      "\t-1210.2917\t = Validation root_mean_squared_error score\n",
      "\t0.45s\t = Training runtime\n",
      "\t0.22s\t = Validation runtime\n",
      "Fitting model: KNeighborsRegressorUnif ...\n",
      "\t-2916.4354\t = Validation root_mean_squared_error score\n",
      "\t0.0s\t = Training runtime\n",
      "\t0.11s\t = Validation runtime\n",
      "Fitting model: KNeighborsRegressorDist ...\n",
      "\t-2679.7858\t = Validation root_mean_squared_error score\n",
      "\t0.02s\t = Training runtime\n",
      "\t0.11s\t = Validation runtime\n",
      "Fitting model: LightGBMRegressor ...\n",
      "\t-1616.2949\t = Validation root_mean_squared_error score\n",
      "\t0.32s\t = Training runtime\n",
      "\t0.01s\t = Validation runtime\n",
      "Fitting model: LightGBMRegressorXT ...\n"
     ]
    },
    {
     "name": "stdout",
     "output_type": "stream",
     "text": [
      "[1000]\ttrain_set's rmse: 1012.07\tvalid_set's rmse: 1797.12\n"
     ]
    },
    {
     "name": "stderr",
     "output_type": "stream",
     "text": [
      "\t-1785.9907\t = Validation root_mean_squared_error score\n",
      "\t0.68s\t = Training runtime\n",
      "\t0.01s\t = Validation runtime\n",
      "Fitting model: CatboostRegressor ...\n",
      "\t-1990.5289\t = Validation root_mean_squared_error score\n",
      "\t2.28s\t = Training runtime\n",
      "\t0.01s\t = Validation runtime\n",
      "Fitting model: NeuralNetRegressor ...\n",
      "\t-6293.3805\t = Validation root_mean_squared_error score\n",
      "\t3.31s\t = Training runtime\n",
      "\t0.12s\t = Validation runtime\n",
      "Fitting model: LightGBMRegressorCustom ...\n",
      "\t-1759.544\t = Validation root_mean_squared_error score\n",
      "\t0.67s\t = Training runtime\n",
      "\t0.01s\t = Validation runtime\n",
      "Fitting model: weighted_ensemble_k0_l1 ...\n",
      "\t-1067.0688\t = Validation root_mean_squared_error score\n",
      "\t0.45s\t = Training runtime\n",
      "\t0.0s\t = Validation runtime\n",
      "AutoGluon training complete, total runtime = 11.13s ...\n"
     ]
    }
   ],
   "source": [
    "predictor = task.fit(train_data=train_data, label=label_column, output_directory='models')"
   ]
  },
  {
   "cell_type": "code",
   "execution_count": 54,
   "metadata": {},
   "outputs": [],
   "source": [
    "predictions = predictor.predict(test_data_no_label)"
   ]
  },
  {
   "cell_type": "code",
   "execution_count": 63,
   "metadata": {},
   "outputs": [
    {
     "name": "stdout",
     "output_type": "stream",
     "text": [
      "[22295.748 22433.582 22311.8   23145.383 23313.207 23342.492 22229.197\n",
      " 20070.723 20305.059 32245.455 22090.734 23346.38  22520.89  23213.71\n",
      " 23852.348 25333.426 23241.469 23160.555 24581.209 21280.387 20952.656\n",
      " 21914.719 20794.512 21581.068 21238.281 23981.295 24817.283 24088.855\n",
      " 23803.674 25631.043 24861.459 20884.02  21862.828 21145.496 23959.387\n",
      " 21624.22  22339.088 21427.572 22294.307 21016.37  21661.426 22000.064\n",
      " 24914.84  24419.848 25180.465 27424.795 24820.404 32066.613 25326.3\n",
      " 23505.658 24412.463 24731.053 26034.965 25042.29  21048.404 21420.605\n",
      " 21787.92  21446.758 27455.61  24645.762 24628.648 22398.682 25078.465\n",
      " 26399.906 22042.97  21684.307 21856.88  21353.531 33295.46  25943.14\n",
      " 24548.914 25428.014 24115.434 25925.63  25420.354 25435.473 21079.379\n",
      " 22436.625 21731.04  25077.61  26120.96  26527.152 24775.395 25830.906\n",
      " 27324.586 26460.328 25711.33  25738.197 25729.387 27382.81  24608.746\n",
      " 28599.371 21598.268 22292.963 24104.705 33323.047 25196.475 26088.367\n",
      " 27038.389 24713.527 25044.258 26709.164 27179.371 26091.215 25629.357\n",
      " 27684.543 24765.932 27144.336 22535.344 22757.217 22484.14  24106.373\n",
      " 22541.096 23192.014 21375.346 25671.629 25217.676 27577.56  30522.506\n",
      " 26050.277 23006.115 22389.71  25011.922 26588.543 24891.094 24367.91\n",
      " 24737.459 27899.668 22632.398 22389.71  21374.877 22039.13  35767.72\n",
      " 29548.094 29304.184 31055.148 30537.078 29990.324 29729.15  30763.52\n",
      " 27374.594 27395.756 27018.68  30882.518 22957.797 27816.297 29918.477\n",
      " 29412.57  32127.127 29704.35  31970.318 28221.812 29109.957 31781.621\n",
      " 30754.656 27387.195 27721.926 23742.855 27546.906 28016.918 29753.36\n",
      " 29773.402 31309.29  30021.936 28183.438 22729.82  28244.88  27545.607\n",
      " 29671.455 29366.777 30502.63  31674.557 30947.25  32571.457 30039.713\n",
      " 31482.535 23825.973 23383.535 37023.746 30776.895 30125.152 33655.844\n",
      " 30740.191 30386.88  29732.455 27589.148 29182.863 30439.05  30043.945\n",
      " 29622.908 30070.123 30117.912 33014.61  33084.43  27821.057 31491.113\n",
      " 31420.072 30143.863 34028.984 30504.742 31054.365 34442.062 28659.523\n",
      " 27766.86  23548.066 27771.387 29500.934 29729.252 34970.965 33110.94\n",
      " 31911.672 24404.129 23579.996 24869.96 ]\n"
     ]
    }
   ],
   "source": [
    "print(predictions) # preditions"
   ]
  },
  {
   "cell_type": "code",
   "execution_count": 61,
   "metadata": {},
   "outputs": [
    {
     "name": "stderr",
     "output_type": "stream",
     "text": [
      "/home/mrabelo/.cache/pypoetry/virtualenvs/automl-salary-prediction-D-f8RIf6-py3.7/lib/python3.7/site-packages/ipykernel/ipkernel.py:287: DeprecationWarning: `should_run_async` will not call `transform_cell` automatically in the future. Please pass the result to `transformed_cell` argument and any exception that happen during thetransform in `preprocessing_exc_tuple` in IPython 7.17 and above.\n",
      "  and should_run_async(code)\n",
      "/home/mrabelo/.cache/pypoetry/virtualenvs/automl-salary-prediction-D-f8RIf6-py3.7/lib/python3.7/site-packages/autogluon/utils/tabular/ml/learner/abstract_learner.py:290: UserWarning: There are 4 (out of 210) evaluation datapoints for which the label is missing. AutoGluon removed these points from the evaluation, which thus may not be entirely representative. You should carefully study why there are missing labels in your evaluation data.\n",
      "  warnings.warn(f\"There are {n_missing} (out of {len(y_true)}) evaluation datapoints for which the label is missing. \"\n",
      "Evaluation: root_mean_squared_error on test data: 4248.221635260405\n",
      "Evaluations on test data:\n",
      "{\n",
      "    \"root_mean_squared_error\": 4248.221635260405,\n",
      "    \"mean_absolute_error\": 2953.6696800595237,\n",
      "    \"explained_variance_score\": 0.6473042672723537,\n",
      "    \"r2_score\": 0.5973954325810682,\n",
      "    \"pearson_correlation\": 0.8594707655255684,\n",
      "    \"mean_squared_error\": 18047387.062294587,\n",
      "    \"median_absolute_error\": 2199.1474609375\n",
      "}\n"
     ]
    }
   ],
   "source": [
    "perf = predictor.evaluate_predictions(y_true=test_data_label, y_pred=predictions, auxiliary_metrics=True)"
   ]
  },
  {
   "cell_type": "code",
   "execution_count": null,
   "metadata": {},
   "outputs": [],
   "source": []
  }
 ],
 "metadata": {
  "kernelspec": {
   "display_name": "Python 3",
   "language": "python",
   "name": "python3"
  },
  "language_info": {
   "codemirror_mode": {
    "name": "ipython",
    "version": 3
   },
   "file_extension": ".py",
   "mimetype": "text/x-python",
   "name": "python",
   "nbconvert_exporter": "python",
   "pygments_lexer": "ipython3",
   "version": "3.7.5"
  }
 },
 "nbformat": 4,
 "nbformat_minor": 4
}
